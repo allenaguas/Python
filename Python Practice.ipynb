{
 "cells": [
  {
   "cell_type": "markdown",
   "metadata": {},
   "source": [
    "Allen's Practice Scripting"
   ]
  },
  {
   "cell_type": "code",
   "execution_count": null,
   "metadata": {},
   "outputs": [],
   "source": [
    "print(\"Hello World\")"
   ]
  },
  {
   "cell_type": "markdown",
   "metadata": {},
   "source": [
    "String slicing / properties / methods"
   ]
  },
  {
   "cell_type": "code",
   "execution_count": null,
   "metadata": {},
   "outputs": [],
   "source": [
    "Hi = 'Hello World'\n",
    "Hi2 = Hi[:5] + ' Allen'\n",
    "print(Hi2)"
   ]
  },
  {
   "cell_type": "code",
   "execution_count": null,
   "metadata": {},
   "outputs": [],
   "source": [
    "x = 'there can only be one!'\n",
    "#variable followed with '.' shows drop down menu. split seperates the sentence with commas.\n",
    "x.split()\n"
   ]
  },
  {
   "cell_type": "code",
   "execution_count": null,
   "metadata": {},
   "outputs": [],
   "source": [
    "x = 'there can only be one'\n",
    "#inserting a certain string that is present will result in skip\n",
    "x.split('a') "
   ]
  },
  {
   "cell_type": "markdown",
   "metadata": {},
   "source": [
    "Example of immutable strings and work arounds"
   ]
  },
  {
   "cell_type": "code",
   "execution_count": null,
   "metadata": {},
   "outputs": [],
   "source": [
    "#changing a string will not change the orginal variable Name1\n",
    "Name1 = 'Timmy'\n",
    "Name1[0] + 'J'\n",
    "print(Name1)"
   ]
  },
  {
   "cell_type": "code",
   "execution_count": null,
   "metadata": {},
   "outputs": [],
   "source": [
    "#this example will result in error / Cannot remove stiring from prev. variable\n",
    "Name1 = 'Timmy'\n",
    "Name1[0] = 'J'"
   ]
  },
  {
   "cell_type": "code",
   "execution_count": null,
   "metadata": {},
   "outputs": [],
   "source": [
    "#correct way to use previous string attached to variable is to copy what you want onto new variable\n",
    "Name1 = 'Timmy'\n",
    "Name2 = 'J' + Name1[1:]\n",
    "print(Name2)\n"
   ]
  },
  {
   "cell_type": "markdown",
   "metadata": {},
   "source": [
    "If, else statement"
   ]
  },
  {
   "cell_type": "code",
   "execution_count": null,
   "metadata": {},
   "outputs": [],
   "source": [
    "animal = 'Lion'\n",
    "if animal == 'Zebra':\n",
    "    print('The animal is a Zebra') \n",
    "else:\n",
    "    print('Animal is not a Zebra')"
   ]
  },
  {
   "cell_type": "markdown",
   "metadata": {},
   "source": [
    "Print Formatting with strings / float formatting"
   ]
  },
  {
   "cell_type": "code",
   "execution_count": null,
   "metadata": {},
   "outputs": [],
   "source": [
    "#.format() method lets you insert stings in curly brackets{}.\n",
    "print('this is a sentence{}' .format(', this is more added to the sentence.'))"
   ]
  },
  {
   "cell_type": "code",
   "execution_count": null,
   "metadata": {},
   "outputs": [],
   "source": [
    "#multiple curly brackets {}\n",
    "print('The {} {} {}' .format('chicken', 'laid', 'eggs.'))"
   ]
  },
  {
   "cell_type": "code",
   "execution_count": null,
   "metadata": {},
   "outputs": [],
   "source": [
    "#choose the arrangement of the brackets by assigning. \n",
    "print('the {2} {0} {1}'.format('is','fast','fox'))"
   ]
  },
  {
   "cell_type": "code",
   "execution_count": null,
   "metadata": {},
   "outputs": [],
   "source": [
    "#you can also assign a variable\n",
    "print('The {f} {i} {bf}'.format( f='fox', bf='fast', i='is'))"
   ]
  },
  {
   "cell_type": "code",
   "execution_count": null,
   "metadata": {},
   "outputs": [],
   "source": [
    "#you can round out numbers by using '#:#', first value is the width, second is what placeholder you want to round.\n",
    "result = 100/23\n",
    "print(result)\n",
    "print('the result is {r:0.3}'.format(r=result))"
   ]
  },
  {
   "cell_type": "code",
   "execution_count": null,
   "metadata": {},
   "outputs": [],
   "source": [
    "#shortcut for .format is to place a 'f' in the beginning \n",
    "name = 'Allen Aguas'\n",
    "print(f'His name is {name}')"
   ]
  },
  {
   "cell_type": "code",
   "execution_count": 30,
   "metadata": {},
   "outputs": [
    {
     "name": "stdout",
     "output_type": "stream",
     "text": [
      "his name is Jacob and his22\n"
     ]
    }
   ],
   "source": [
    "name = 'Jacob'\n",
    "age = '22'\n",
    "print(f'his name is {name} and he is {age}')"
   ]
  },
  {
   "cell_type": "markdown",
   "metadata": {},
   "source": [
    "Lists in Python"
   ]
  },
  {
   "cell_type": "code",
   "execution_count": null,
   "metadata": {},
   "outputs": [],
   "source": []
  },
  {
   "cell_type": "markdown",
   "metadata": {},
   "source": []
  }
 ],
 "metadata": {
  "kernelspec": {
   "display_name": "Python 3.9.12",
   "language": "python",
   "name": "python3"
  },
  "language_info": {
   "codemirror_mode": {
    "name": "ipython",
    "version": 3
   },
   "file_extension": ".py",
   "mimetype": "text/x-python",
   "name": "python",
   "nbconvert_exporter": "python",
   "pygments_lexer": "ipython3",
   "version": "3.9.12"
  },
  "orig_nbformat": 4,
  "vscode": {
   "interpreter": {
    "hash": "1a5c3a83a7178898c7ffdf18e2573a04301465f9a9c0874b3414f500f5db1cd4"
   }
  }
 },
 "nbformat": 4,
 "nbformat_minor": 2
}
