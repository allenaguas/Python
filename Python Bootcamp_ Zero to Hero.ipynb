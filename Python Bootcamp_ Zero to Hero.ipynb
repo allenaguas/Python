{
 "cells": [
  {
   "cell_type": "markdown",
   "metadata": {},
   "source": [
    "ALLEN'S PYTHON BOOTCAMP: ZERO TO HERO"
   ]
  },
  {
   "cell_type": "markdown",
   "metadata": {},
   "source": [
    "1. PYTHON AND DATA STRUCTURE BASICS"
   ]
  },
  {
   "cell_type": "markdown",
   "metadata": {},
   "source": [
    "A. String slicing / properties / methods"
   ]
  },
  {
   "cell_type": "code",
   "execution_count": null,
   "metadata": {},
   "outputs": [],
   "source": [
    "Hi = 'Hello World'\n",
    "Hi2 = Hi[:5] + ' Allen'\n",
    "print(Hi2)"
   ]
  },
  {
   "cell_type": "code",
   "execution_count": null,
   "metadata": {},
   "outputs": [],
   "source": [
    "x = 'there can only be one!'\n",
    "#variable followed with '.' shows drop down menu. split seperates the sentence with commas.\n",
    "x.split()\n"
   ]
  },
  {
   "cell_type": "code",
   "execution_count": null,
   "metadata": {},
   "outputs": [],
   "source": [
    "x = 'there can only be one'\n",
    "#inserting a certain string that is present will result in skip\n",
    "x.split('a') "
   ]
  },
  {
   "cell_type": "markdown",
   "metadata": {},
   "source": [
    "B. Example of immutable strings and work arounds"
   ]
  },
  {
   "cell_type": "code",
   "execution_count": null,
   "metadata": {},
   "outputs": [],
   "source": [
    "#changing a string will not change the orginal variable Name1\n",
    "Name1 = 'Timmy'\n",
    "Name1[0] + 'J'\n",
    "print(Name1)"
   ]
  },
  {
   "cell_type": "code",
   "execution_count": null,
   "metadata": {},
   "outputs": [],
   "source": [
    "#this example will result in error / Cannot remove stiring from prev. variable\n",
    "Name1 = 'Timmy'\n",
    "Name1[0] = 'J'"
   ]
  },
  {
   "cell_type": "code",
   "execution_count": null,
   "metadata": {},
   "outputs": [],
   "source": [
    "#correct way to use previous string attached to variable is to copy what you want onto new variable\n",
    "Name1 = 'Timmy'\n",
    "Name2 = 'J' + Name1[1:]\n",
    "print(Name2)\n"
   ]
  },
  {
   "cell_type": "markdown",
   "metadata": {},
   "source": [
    "C. If, else statement"
   ]
  },
  {
   "cell_type": "code",
   "execution_count": null,
   "metadata": {},
   "outputs": [],
   "source": [
    "animal = 'Lion'\n",
    "if animal == 'Zebra':\n",
    "    print('The animal is a Zebra') \n",
    "else:\n",
    "    print('Animal is not a Zebra')"
   ]
  },
  {
   "cell_type": "markdown",
   "metadata": {},
   "source": [
    "D. Print Formatting with strings / float formatting"
   ]
  },
  {
   "cell_type": "code",
   "execution_count": null,
   "metadata": {},
   "outputs": [],
   "source": [
    "#.format() method lets you insert stings in curly brackets{}.\n",
    "print('this is a sentence{}' .format(', this is more added to the sentence.'))"
   ]
  },
  {
   "cell_type": "code",
   "execution_count": null,
   "metadata": {},
   "outputs": [],
   "source": [
    "#multiple curly brackets {}\n",
    "print('The {} {} {}' .format('chicken', 'laid', 'eggs.'))"
   ]
  },
  {
   "cell_type": "code",
   "execution_count": null,
   "metadata": {},
   "outputs": [],
   "source": [
    "#choose the arrangement of the brackets by assigning. \n",
    "print('the {2} {0} {1}'.format('is','fast','fox'))"
   ]
  },
  {
   "cell_type": "code",
   "execution_count": null,
   "metadata": {},
   "outputs": [],
   "source": [
    "#you can also assign a variable\n",
    "print('The {f} {i} {bf}'.format( f='fox', bf='fast', i='is'))"
   ]
  },
  {
   "cell_type": "code",
   "execution_count": null,
   "metadata": {},
   "outputs": [],
   "source": [
    "#you can round out numbers by using '#:#', first value is the width, second is what placeholder you want to round.\n",
    "result = 100/23\n",
    "print(result)\n",
    "print('the result is {r:0.3}'.format(r=result))"
   ]
  },
  {
   "cell_type": "code",
   "execution_count": null,
   "metadata": {},
   "outputs": [],
   "source": [
    "#shortcut for .format is to place a 'f' in the beginning \n",
    "name = 'Allen Aguas'\n",
    "print(f'His name is {name}')"
   ]
  },
  {
   "cell_type": "code",
   "execution_count": null,
   "metadata": {},
   "outputs": [],
   "source": [
    "name = 'Jacob'\n",
    "age = '22'\n",
    "print(f'his name is {name} and he is {age}')"
   ]
  },
  {
   "cell_type": "markdown",
   "metadata": {},
   "source": [
    "E. Lists in Python"
   ]
  },
  {
   "cell_type": "code",
   "execution_count": null,
   "metadata": {},
   "outputs": [],
   "source": [
    "#easy list example / len will show how many list\n",
    "my_list = [1,2,3,4]\n",
    "len(my_list)\n"
   ]
  },
  {
   "cell_type": "code",
   "execution_count": null,
   "metadata": {},
   "outputs": [],
   "source": [
    "#concatenate list\n",
    "other_list = ['one', 'two', 'three']\n",
    "my_list + other_list"
   ]
  },
  {
   "cell_type": "code",
   "execution_count": null,
   "metadata": {},
   "outputs": [],
   "source": [
    "#list [] you can change what's there unlike a regular variable\n",
    "list1=[1,2,3]\n",
    "list1[1]=1.5\n",
    "print(list1)\n"
   ]
  },
  {
   "cell_type": "code",
   "execution_count": null,
   "metadata": {},
   "outputs": [],
   "source": [
    "#append to the end of the list\n",
    "list1.append(3.5)\n",
    "print(list1)"
   ]
  },
  {
   "cell_type": "code",
   "execution_count": null,
   "metadata": {},
   "outputs": [],
   "source": [
    "#remove item from list, blank will be the end item on the list -- variable name.pop()\n",
    "#input number order to remove\n",
    "list2 = [1,2,3,4,5,6,7]\n",
    "list2.pop()\n",
    "list2.pop(2)\n",
    "#removed 7 with blank .pop() and 3 with .po(2)\n",
    "print(list2)\n"
   ]
  },
  {
   "cell_type": "code",
   "execution_count": null,
   "metadata": {},
   "outputs": [],
   "source": [
    "#sort list in order\n",
    "num_list=[5,1,3,2,4,0]\n",
    "num_list.sort()\n",
    "print(num_list)\n",
    "\n",
    "#reverse orders them in reverse\n",
    "num_list.reverse()\n",
    "print(num_list)"
   ]
  },
  {
   "cell_type": "markdown",
   "metadata": {},
   "source": [
    "F. Dictionaries"
   ]
  },
  {
   "cell_type": "code",
   "execution_count": 1,
   "metadata": {},
   "outputs": [
    {
     "name": "stdout",
     "output_type": "stream",
     "text": [
      "value1\n"
     ]
    }
   ],
   "source": [
    "#dictionaries can pull out values by binding keys  /{} : followed by commas for more than 1\n",
    "my_dict={'key1':'value1','key2':'value2'}\n",
    "print(my_dict['key1'])"
   ]
  },
  {
   "cell_type": "markdown",
   "metadata": {},
   "source": []
  }
 ],
 "metadata": {
  "kernelspec": {
   "display_name": "Python 3.8.8 ('base')",
   "language": "python",
   "name": "python3"
  },
  "language_info": {
   "codemirror_mode": {
    "name": "ipython",
    "version": 3
   },
   "file_extension": ".py",
   "mimetype": "text/x-python",
   "name": "python",
   "nbconvert_exporter": "python",
   "pygments_lexer": "ipython3",
   "version": "3.8.8"
  },
  "orig_nbformat": 4,
  "vscode": {
   "interpreter": {
    "hash": "61ff55f9f3abd31e8fc84dea29263213325a8ef1444d8e535cb6793547393410"
   }
  }
 },
 "nbformat": 4,
 "nbformat_minor": 2
}
